{
 "cells": [
  {
   "cell_type": "code",
   "execution_count": 77,
   "metadata": {},
   "outputs": [],
   "source": [
    "import duckdb\n",
    "\n",
    "con = duckdb.connect('local.duckdb')\n",
    "con.sql(\"CREATE TABLE test AS SELECT * FROM 'weblog.csv'\")"
   ]
  },
  {
   "cell_type": "markdown",
   "metadata": {},
   "source": [
    "# 新增1000万数据用于测试"
   ]
  },
  {
   "cell_type": "code",
   "execution_count": 78,
   "metadata": {},
   "outputs": [
    {
     "ename": "KeyboardInterrupt",
     "evalue": "",
     "output_type": "error",
     "traceback": [
      "\u001b[1;31m---------------------------------------------------------------------------\u001b[0m",
      "\u001b[1;31mKeyboardInterrupt\u001b[0m                         Traceback (most recent call last)",
      "\u001b[1;32mc:\\Users\\sirliu\\Desktop\\共用分析\\test.ipynb 单元格 3\u001b[0m line \u001b[0;36m3\n\u001b[0;32m     <a href='vscode-notebook-cell:/c%3A/Users/sirliu/Desktop/%E5%85%B1%E7%94%A8%E5%88%86%E6%9E%90/test.ipynb#X12sZmlsZQ%3D%3D?line=32'>33</a>\u001b[0m department \u001b[39m=\u001b[39m user_id_to_department[user_id]\n\u001b[0;32m     <a href='vscode-notebook-cell:/c%3A/Users/sirliu/Desktop/%E5%85%B1%E7%94%A8%E5%88%86%E6%9E%90/test.ipynb#X12sZmlsZQ%3D%3D?line=33'>34</a>\u001b[0m operation_type \u001b[39m=\u001b[39m random\u001b[39m.\u001b[39mchoice([\u001b[39m\"\u001b[39m\u001b[39m登录\u001b[39m\u001b[39m\"\u001b[39m, \u001b[39m\"\u001b[39m\u001b[39m登出\u001b[39m\u001b[39m\"\u001b[39m, \u001b[39m\"\u001b[39m\u001b[39m添加\u001b[39m\u001b[39m\"\u001b[39m, \u001b[39m\"\u001b[39m\u001b[39m删除\u001b[39m\u001b[39m\"\u001b[39m, \u001b[39m\"\u001b[39m\u001b[39m编辑\u001b[39m\u001b[39m\"\u001b[39m, \u001b[39m\"\u001b[39m\u001b[39m查看\u001b[39m\u001b[39m\"\u001b[39m, \u001b[39m\"\u001b[39m\u001b[39m上传\u001b[39m\u001b[39m\"\u001b[39m, \u001b[39m\"\u001b[39m\u001b[39m下载\u001b[39m\u001b[39m\"\u001b[39m, \u001b[39m\"\u001b[39m\u001b[39m分享\u001b[39m\u001b[39m\"\u001b[39m, \u001b[39m\"\u001b[39m\u001b[39m评论\u001b[39m\u001b[39m\"\u001b[39m, \u001b[39m\"\u001b[39m\u001b[39m点赞\u001b[39m\u001b[39m\"\u001b[39m, \u001b[39m\"\u001b[39m\u001b[39m收藏\u001b[39m\u001b[39m\"\u001b[39m, \u001b[39m\"\u001b[39m\u001b[39m回复\u001b[39m\u001b[39m\"\u001b[39m, \u001b[39m\"\u001b[39m\u001b[39m更新\u001b[39m\u001b[39m\"\u001b[39m, \u001b[39m\"\u001b[39m\u001b[39m搜索\u001b[39m\u001b[39m\"\u001b[39m, \u001b[39m\"\u001b[39m\u001b[39m排序\u001b[39m\u001b[39m\"\u001b[39m, \u001b[39m\"\u001b[39m\u001b[39m过滤\u001b[39m\u001b[39m\"\u001b[39m, \u001b[39m\"\u001b[39m\u001b[39m分配\u001b[39m\u001b[39m\"\u001b[39m, \u001b[39m\"\u001b[39m\u001b[39m创建\u001b[39m\u001b[39m\"\u001b[39m, \u001b[39m\"\u001b[39m\u001b[39m发布\u001b[39m\u001b[39m\"\u001b[39m, \u001b[39m\"\u001b[39m\u001b[39m撤销\u001b[39m\u001b[39m\"\u001b[39m, \u001b[39m\"\u001b[39m\u001b[39m审核\u001b[39m\u001b[39m\"\u001b[39m, \u001b[39m\"\u001b[39m\u001b[39m激活\u001b[39m\u001b[39m\"\u001b[39m, \u001b[39m\"\u001b[39m\u001b[39m禁用\u001b[39m\u001b[39m\"\u001b[39m, \u001b[39m\"\u001b[39m\u001b[39m备份\u001b[39m\u001b[39m\"\u001b[39m, \u001b[39m\"\u001b[39m\u001b[39m恢复\u001b[39m\u001b[39m\"\u001b[39m, \u001b[39m\"\u001b[39m\u001b[39m重置\u001b[39m\u001b[39m\"\u001b[39m])\n\u001b[1;32m---> <a href='vscode-notebook-cell:/c%3A/Users/sirliu/Desktop/%E5%85%B1%E7%94%A8%E5%88%86%E6%9E%90/test.ipynb#X12sZmlsZQ%3D%3D?line=34'>35</a>\u001b[0m operation_ip \u001b[39m=\u001b[39m fake\u001b[39m.\u001b[39;49mipv4_private()\n\u001b[0;32m     <a href='vscode-notebook-cell:/c%3A/Users/sirliu/Desktop/%E5%85%B1%E7%94%A8%E5%88%86%E6%9E%90/test.ipynb#X12sZmlsZQ%3D%3D?line=35'>36</a>\u001b[0m operation_time \u001b[39m=\u001b[39m datetime(\u001b[39m2023\u001b[39m, \u001b[39m1\u001b[39m, \u001b[39m1\u001b[39m) \u001b[39m+\u001b[39m timedelta(seconds\u001b[39m=\u001b[39mrandom\u001b[39m.\u001b[39mrandint(\u001b[39m0\u001b[39m, \u001b[39m86400\u001b[39m \u001b[39m*\u001b[39m \u001b[39m30\u001b[39m))\n\u001b[0;32m     <a href='vscode-notebook-cell:/c%3A/Users/sirliu/Desktop/%E5%85%B1%E7%94%A8%E5%88%86%E6%9E%90/test.ipynb#X12sZmlsZQ%3D%3D?line=36'>37</a>\u001b[0m random_data\u001b[39m.\u001b[39mappend([uuid\u001b[39m.\u001b[39muuid4(),operation_ip,username,user_id,operation_type,department,operation_time])\n",
      "File \u001b[1;32mc:\\Program Files\\Python311\\Lib\\site-packages\\faker\\providers\\internet\\__init__.py:571\u001b[0m, in \u001b[0;36mProvider.ipv4_private\u001b[1;34m(self, network, address_class)\u001b[0m\n\u001b[0;32m    563\u001b[0m \u001b[39m\u001b[39m\u001b[39m\"\"\"\u001b[39;00m\n\u001b[0;32m    564\u001b[0m \u001b[39mReturns a private IPv4.\u001b[39;00m\n\u001b[0;32m    565\u001b[0m \n\u001b[1;32m   (...)\u001b[0m\n\u001b[0;32m    568\u001b[0m \u001b[39m:returns: Private IPv4\u001b[39;00m\n\u001b[0;32m    569\u001b[0m \u001b[39m\"\"\"\u001b[39;00m\n\u001b[0;32m    570\u001b[0m private_networks, weights \u001b[39m=\u001b[39m \u001b[39mself\u001b[39m\u001b[39m.\u001b[39m_get_private_networks_and_weights(address_class\u001b[39m=\u001b[39maddress_class)\n\u001b[1;32m--> 571\u001b[0m \u001b[39mreturn\u001b[39;00m \u001b[39mself\u001b[39;49m\u001b[39m.\u001b[39;49m_random_ipv4_address_from_subnets(private_networks, weights\u001b[39m=\u001b[39;49mweights, network\u001b[39m=\u001b[39;49mnetwork)\n",
      "File \u001b[1;32mc:\\Program Files\\Python311\\Lib\\site-packages\\faker\\providers\\internet\\__init__.py:460\u001b[0m, in \u001b[0;36mProvider._random_ipv4_address_from_subnets\u001b[1;34m(self, subnets, weights, network)\u001b[0m\n\u001b[0;32m    454\u001b[0m \u001b[39m# If the weights argument has an invalid value, default to equal distribution\u001b[39;00m\n\u001b[0;32m    455\u001b[0m \u001b[39mif\u001b[39;00m (\n\u001b[0;32m    456\u001b[0m     \u001b[39misinstance\u001b[39m(weights, \u001b[39mlist\u001b[39m)\n\u001b[0;32m    457\u001b[0m     \u001b[39mand\u001b[39;00m \u001b[39mlen\u001b[39m(subnets) \u001b[39m==\u001b[39m \u001b[39mlen\u001b[39m(weights)\n\u001b[0;32m    458\u001b[0m     \u001b[39mand\u001b[39;00m \u001b[39mall\u001b[39m(\u001b[39misinstance\u001b[39m(w, (\u001b[39mfloat\u001b[39m, \u001b[39mint\u001b[39m)) \u001b[39mfor\u001b[39;00m w \u001b[39min\u001b[39;00m weights)\n\u001b[0;32m    459\u001b[0m ):\n\u001b[1;32m--> 460\u001b[0m     subnet \u001b[39m=\u001b[39m choices_distribution(\n\u001b[0;32m    461\u001b[0m         subnets,\n\u001b[0;32m    462\u001b[0m         [\u001b[39mfloat\u001b[39;49m(w) \u001b[39mfor\u001b[39;49;00m w \u001b[39min\u001b[39;49;00m weights],\n\u001b[0;32m    463\u001b[0m         random\u001b[39m=\u001b[39;49m\u001b[39mself\u001b[39;49m\u001b[39m.\u001b[39;49mgenerator\u001b[39m.\u001b[39;49mrandom,\n\u001b[0;32m    464\u001b[0m         length\u001b[39m=\u001b[39;49m\u001b[39m1\u001b[39;49m,\n\u001b[0;32m    465\u001b[0m     )[\u001b[39m0\u001b[39m]\n\u001b[0;32m    466\u001b[0m \u001b[39melse\u001b[39;00m:\n\u001b[0;32m    467\u001b[0m     subnet \u001b[39m=\u001b[39m \u001b[39mself\u001b[39m\u001b[39m.\u001b[39mgenerator\u001b[39m.\u001b[39mrandom\u001b[39m.\u001b[39mchoice(subnets)\n",
      "File \u001b[1;32mc:\\Program Files\\Python311\\Lib\\site-packages\\faker\\utils\\distribution.py:73\u001b[0m, in \u001b[0;36mchoices_distribution\u001b[1;34m(a, p, random, length)\u001b[0m\n\u001b[0;32m     71\u001b[0m         \u001b[39mreturn\u001b[39;00m [random\u001b[39m.\u001b[39mchoice(a)]\n\u001b[0;32m     72\u001b[0m     \u001b[39melse\u001b[39;00m:\n\u001b[1;32m---> 73\u001b[0m         \u001b[39mreturn\u001b[39;00m random\u001b[39m.\u001b[39;49mchoices(a, weights\u001b[39m=\u001b[39;49mp, k\u001b[39m=\u001b[39;49mlength)\n\u001b[0;32m     74\u001b[0m \u001b[39melse\u001b[39;00m:\n\u001b[0;32m     75\u001b[0m     choices \u001b[39m=\u001b[39m []\n",
      "File \u001b[1;32mc:\\Program Files\\Python311\\Lib\\random.py:511\u001b[0m, in \u001b[0;36mRandom.choices\u001b[1;34m(self, population, weights, cum_weights, k)\u001b[0m\n\u001b[0;32m    509\u001b[0m bisect \u001b[39m=\u001b[39m _bisect\n\u001b[0;32m    510\u001b[0m hi \u001b[39m=\u001b[39m n \u001b[39m-\u001b[39m \u001b[39m1\u001b[39m\n\u001b[1;32m--> 511\u001b[0m \u001b[39mreturn\u001b[39;00m [population[bisect(cum_weights, random() \u001b[39m*\u001b[39;49m total, \u001b[39m0\u001b[39;49m, hi)]\n\u001b[0;32m    512\u001b[0m         \u001b[39mfor\u001b[39;49;00m i \u001b[39min\u001b[39;49;00m _repeat(\u001b[39mNone\u001b[39;49;00m, k)]\n",
      "File \u001b[1;32mc:\\Program Files\\Python311\\Lib\\random.py:511\u001b[0m, in \u001b[0;36m<listcomp>\u001b[1;34m(.0)\u001b[0m\n\u001b[0;32m    509\u001b[0m bisect \u001b[39m=\u001b[39m _bisect\n\u001b[0;32m    510\u001b[0m hi \u001b[39m=\u001b[39m n \u001b[39m-\u001b[39m \u001b[39m1\u001b[39m\n\u001b[1;32m--> 511\u001b[0m \u001b[39mreturn\u001b[39;00m [population[bisect(cum_weights, random() \u001b[39m*\u001b[39m total, \u001b[39m0\u001b[39m, hi)]\n\u001b[0;32m    512\u001b[0m         \u001b[39mfor\u001b[39;00m i \u001b[39min\u001b[39;00m _repeat(\u001b[39mNone\u001b[39;00m, k)]\n",
      "\u001b[1;31mKeyboardInterrupt\u001b[0m: "
     ]
    }
   ],
   "source": [
    "from faker import Faker\n",
    "import random\n",
    "import uuid\n",
    "from datetime import datetime, timedelta\n",
    "import pandas as pd\n",
    "\n",
    "# Initialize the Faker library\n",
    "fake = Faker('zh_CN')\n",
    "\n",
    "# Number of unique users and departments\n",
    "n_users = 100  # Number of unique usernames\n",
    "n_departments = 5\n",
    "n_records = 10000000  # Number of records to generate\n",
    "\n",
    "# Generate unique usernames and corresponding departments\n",
    "unique_users = [fake.name() for _ in range(n_users)]\n",
    "departments = [fake.company() for _ in range(n_departments)]\n",
    "\n",
    "# Generate unique user_ids for each username\n",
    "username_to_ids = {username: [fake.unique.random_number(digits=4) for _ in range(random.randint(1, 3))] for username in unique_users}\n",
    "\n",
    "# Map each user_id to a single department\n",
    "user_id_to_department = {}\n",
    "for username, ids in username_to_ids.items():\n",
    "    for user_id in ids:\n",
    "        user_id_to_department[user_id] = random.choice(departments)\n",
    "\n",
    "# Generate the random data\n",
    "random_data = []\n",
    "for _ in range(n_records):\n",
    "    username = random.choice(unique_users)\n",
    "    user_id = random.choice(username_to_ids[username])\n",
    "    department = user_id_to_department[user_id]\n",
    "    operation_type = random.choice([\"登录\", \"登出\", \"添加\", \"删除\", \"编辑\", \"查看\", \"上传\", \"下载\", \"分享\", \"评论\", \"点赞\", \"收藏\", \"回复\", \"更新\", \"搜索\", \"排序\", \"过滤\", \"分配\", \"创建\", \"发布\", \"撤销\", \"审核\", \"激活\", \"禁用\", \"备份\", \"恢复\", \"重置\"])\n",
    "    operation_ip = fake.ipv4_private()\n",
    "    operation_time = datetime(2023, 1, 1) + timedelta(seconds=random.randint(0, 86400 * 30))\n",
    "    random_data.append([uuid.uuid4(),operation_ip,username,user_id,operation_type,department,operation_time])\n",
    "# Create a DataFrame\n",
    "df_random = pd.DataFrame(random_data, columns=[\"uuid\",\"operation_ip\",\"username\",\"user_id\",\"operation_type\",\"department\",\"operation_time\"])\n",
    "con.sql(\"INSERT INTO test SELECT * FROM df_random\")"
   ]
  },
  {
   "cell_type": "markdown",
   "metadata": {},
   "source": [
    "# 部分正确"
   ]
  },
  {
   "cell_type": "code",
   "execution_count": null,
   "metadata": {},
   "outputs": [],
   "source": [
    "con.sql(\"\"\"\n",
    "    COPY (\n",
    "       WITH ordered_ops AS (\n",
    "    SELECT \n",
    "        *,\n",
    "        LEAD(uuid) OVER (PARTITION BY user_id ORDER BY operation_time) AS next_uuid,\n",
    "        LEAD(operation_ip) OVER (PARTITION BY user_id ORDER BY operation_time) AS next_ip,\n",
    "        LEAD(operation_type) OVER (PARTITION BY user_id ORDER BY operation_time) AS next_opera,\n",
    "        LEAD(operation_time) OVER (PARTITION BY user_id ORDER BY operation_time) AS next_time\n",
    "    FROM \n",
    "        test\n",
    ")\n",
    "SELECT \n",
    "    username,\n",
    "    user_id,\n",
    "    department,\n",
    "    uuid AS pre_uuid,\n",
    "    next_uuid,\n",
    "    operation_type AS pre_opera,\n",
    "    next_opera,\n",
    "    operation_time AS pre_time,\n",
    "    next_time,\n",
    "    operation_ip AS pre_ip,\n",
    "    next_ip\n",
    "FROM \n",
    "    ordered_ops\n",
    "WHERE \n",
    "    next_ip IS NOT NULL AND\n",
    "    next_ip != operation_ip AND\n",
    "    DATEDIFF('second', operation_time, next_time) BETWEEN 0 AND 3\n",
    "ORDER BY \n",
    "    user_id, operation_time\n",
    ") TO 'RESULT.CSV' (header,delimter ',');\n",
    "\"\"\")"
   ]
  },
  {
   "cell_type": "markdown",
   "metadata": {},
   "source": [
    "# 完全正确"
   ]
  },
  {
   "cell_type": "code",
   "execution_count": null,
   "metadata": {},
   "outputs": [],
   "source": [
    "con.sql(\"\"\"COPY (\n",
    "        SELECT A.username,\n",
    "       A.user_id,\n",
    "       A.department,\n",
    "       A.operation_type AS pre_opera,\n",
    "       B.operation_type AS next_opera,\n",
    "       A.operation_time AS pre_time,\n",
    "       B.operation_time AS next_time,\n",
    "       A.operation_ip AS pre_ip,\n",
    "       B.operation_ip AS next_ip\n",
    "FROM test A, test B\n",
    "WHERE A.user_id = B.user_id\n",
    "  AND A.operation_time < B.operation_time\n",
    "  AND DATEDIFF('second', A.operation_time, B.operation_time) <= 3\n",
    "  AND A.operation_ip != B.operation_ip\n",
    "ORDER BY A.user_id, A.operation_time\n",
    ") TO 'RESULT2.CSV' (header,delimter ',');\"\"\")"
   ]
  },
  {
   "cell_type": "code",
   "execution_count": 79,
   "metadata": {},
   "outputs": [],
   "source": [
    "con.close()"
   ]
  }
 ],
 "metadata": {
  "kernelspec": {
   "display_name": "Python 3",
   "language": "python",
   "name": "python3"
  },
  "language_info": {
   "codemirror_mode": {
    "name": "ipython",
    "version": 3
   },
   "file_extension": ".py",
   "mimetype": "text/x-python",
   "name": "python",
   "nbconvert_exporter": "python",
   "pygments_lexer": "ipython3",
   "version": "3.11.0"
  }
 },
 "nbformat": 4,
 "nbformat_minor": 2
}
